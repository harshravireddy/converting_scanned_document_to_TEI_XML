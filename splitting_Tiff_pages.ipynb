{
  "nbformat": 4,
  "nbformat_minor": 0,
  "metadata": {
    "colab": {
      "provenance": []
    },
    "kernelspec": {
      "name": "python3",
      "display_name": "Python 3"
    },
    "language_info": {
      "name": "python"
    }
  },
  "cells": [
    {
      "cell_type": "code",
      "execution_count": null,
      "metadata": {
        "id": "mXcUb2R4kTUS"
      },
      "outputs": [],
      "source": [
        "from PIL import Image\n",
        "\n",
        "def split_tiff(tiff_file_path, output_directory):\n",
        "    # Open the TIFF file\n",
        "    tiff_image = Image.open(tiff_file_path)\n",
        "\n",
        "    # Iterate over each page and save it as a separate file\n",
        "    for i in range(tiff_image.n_frames):\n",
        "        # Go to the current page\n",
        "        tiff_image.seek(i)\n",
        "\n",
        "        # Save the current page as a new file\n",
        "        page_filename = f\"page_{i + 1}.tif\"\n",
        "        page_path = os.path.join(output_directory, page_filename)\n",
        "        tiff_image.save(page_path)\n",
        "\n",
        "        print(f\"Page {i + 1} saved as {page_path}\")\n",
        "\n",
        "    # Close the TIFF file\n",
        "    tiff_image.close()\n",
        "\n",
        "# Example usage\n",
        "tiff_file_path = \"example.tiff\"  # Path to your TIFF file\n",
        "output_directory = \"output_pages\"  # Directory to save individual page files\n",
        "split_tiff(tiff_file_path, output_directory)\n"
      ]
    }
  ]
}